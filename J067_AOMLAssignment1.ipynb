{
 "cells": [
  {
   "cell_type": "code",
   "execution_count": 1,
   "id": "b60b42b0",
   "metadata": {},
   "outputs": [],
   "source": [
    "import pandas as pd\n",
    "import numpy as np\n",
    "from sklearn.model_selection import train_test_split\n",
    "from sklearn.preprocessing import StandardScaler, OneHotEncoder\n",
    "from sklearn.neighbors import KNeighborsClassifier\n",
    "from sklearn.tree import DecisionTreeClassifier\n",
    "from sklearn.metrics import f1_score\n",
    "import joblib"
   ]
  },
  {
   "cell_type": "code",
   "execution_count": 2,
   "id": "0b696bc8",
   "metadata": {},
   "outputs": [],
   "source": [
    "df = pd.read_csv(\"diabetes.csv\")\n"
   ]
  },
  {
   "cell_type": "code",
   "execution_count": 3,
   "id": "f9e6f0c9",
   "metadata": {},
   "outputs": [],
   "source": [
    "def category(bmi):\n",
    "    if bmi < 18.5:\n",
    "        return \"Underweight\"\n",
    "    elif 18.5 <= bmi < 24.9:\n",
    "        return \"Normal weight\"\n",
    "    elif 25 <= bmi < 29.9:\n",
    "        return \"Overweight\"\n",
    "    else:\n",
    "        return \"Obesity\"\n",
    "\n",
    "df['BMI_category'] = df['BMI'].apply(category)"
   ]
  },
  {
   "cell_type": "code",
   "execution_count": 4,
   "id": "02ad04ac",
   "metadata": {},
   "outputs": [
    {
     "name": "stdout",
     "output_type": "stream",
     "text": [
      "   Pregnancies  Glucose  BloodPressure  SkinThickness  Insulin   BMI  \\\n",
      "0            6      148             72             35        0  33.6   \n",
      "1            1       85             66             29        0  26.6   \n",
      "2            8      183             64              0        0  23.3   \n",
      "3            1       89             66             23       94  28.1   \n",
      "4            0      137             40             35      168  43.1   \n",
      "\n",
      "   DiabetesPedigreeFunction  Age  Outcome   BMI_category  \n",
      "0                     0.627   50        1        Obesity  \n",
      "1                     0.351   31        0     Overweight  \n",
      "2                     0.672   32        1  Normal weight  \n",
      "3                     0.167   21        0     Overweight  \n",
      "4                     2.288   33        1        Obesity  \n"
     ]
    }
   ],
   "source": [
    "print(df.head())\n"
   ]
  },
  {
   "cell_type": "code",
   "execution_count": 5,
   "id": "696580e7",
   "metadata": {},
   "outputs": [],
   "source": [
    "train_data, val_data = train_test_split(df, test_size=0.2, random_state=123)\n"
   ]
  },
  {
   "cell_type": "code",
   "execution_count": 6,
   "id": "b5f8ef4e",
   "metadata": {},
   "outputs": [],
   "source": [
    "numeric_features = ['Pregnancies', 'Glucose', 'BloodPressure', 'SkinThickness', \n",
    "                    'Insulin', 'BMI', 'DiabetesPedigreeFunction', 'Age']\n",
    "scaler = StandardScaler()\n",
    "train_data.loc[:, numeric_features] = scaler.fit_transform(train_data[numeric_features])\n",
    "val_data.loc[:, numeric_features] = scaler.transform(val_data[numeric_features])"
   ]
  },
  {
   "cell_type": "code",
   "execution_count": 7,
   "id": "74497d6d",
   "metadata": {},
   "outputs": [],
   "source": [
    "categorical_features = ['BMI_category']\n",
    "encoder = OneHotEncoder(sparse_output=False, handle_unknown='ignore')\n",
    "train_categorical = encoder.fit_transform(train_data[categorical_features])\n",
    "val_categorical = encoder.transform(val_data[categorical_features])"
   ]
  },
  {
   "cell_type": "code",
   "execution_count": 8,
   "id": "72dedbef",
   "metadata": {},
   "outputs": [],
   "source": [
    "train_categorical_df = pd.DataFrame(train_categorical, index=train_data.index, columns=encoder.get_feature_names_out())\n",
    "val_categorical_df = pd.DataFrame(val_categorical, index=val_data.index, columns=encoder.get_feature_names_out())"
   ]
  },
  {
   "cell_type": "code",
   "execution_count": 9,
   "id": "3111a999",
   "metadata": {},
   "outputs": [],
   "source": [
    "train_data = train_data.drop(columns=categorical_features)\n",
    "val_data = val_data.drop(columns=categorical_features)"
   ]
  },
  {
   "cell_type": "code",
   "execution_count": 10,
   "id": "4f30061f",
   "metadata": {},
   "outputs": [],
   "source": [
    "train_data = pd.concat([train_data, train_categorical_df], axis=1)\n",
    "val_data = pd.concat([val_data, val_categorical_df], axis=1)\n"
   ]
  },
  {
   "cell_type": "code",
   "execution_count": 11,
   "id": "039cfb14",
   "metadata": {},
   "outputs": [],
   "source": [
    "X_train = train_data.drop(columns=['Outcome'])\n",
    "y_train = df.loc[train_data.index, 'BMI_category']"
   ]
  },
  {
   "cell_type": "code",
   "execution_count": 12,
   "id": "41ef2615",
   "metadata": {},
   "outputs": [],
   "source": [
    "X_val = val_data.drop(columns=['Outcome'])\n",
    "y_val = df.loc[val_data.index, 'BMI_category']"
   ]
  },
  {
   "cell_type": "code",
   "execution_count": 13,
   "id": "dce45c4f",
   "metadata": {},
   "outputs": [
    {
     "name": "stdout",
     "output_type": "stream",
     "text": [
      "X_train shape: (614, 12)\n",
      "X_val shape: (154, 12)\n",
      "y_train shape: (614,)\n",
      "y_val shape: (154,)\n"
     ]
    }
   ],
   "source": [
    "print(f\"X_train shape: {X_train.shape}\")\n",
    "print(f\"X_val shape: {X_val.shape}\")\n",
    "print(f\"y_train shape: {y_train.shape}\")\n",
    "print(f\"y_val shape: {y_val.shape}\")\n"
   ]
  },
  {
   "cell_type": "code",
   "execution_count": 14,
   "id": "1d8725f8",
   "metadata": {},
   "outputs": [
    {
     "name": "stdout",
     "output_type": "stream",
     "text": [
      "k=3, F1 Score=0.9329131803637732\n",
      "k=5, F1 Score=0.932342789213097\n",
      "k=7, F1 Score=0.9267833142382963\n"
     ]
    }
   ],
   "source": [
    "best_knn_f1 = 0\n",
    "best_knn = None\n",
    "\n",
    "for k in [3, 5, 7]:\n",
    "    knn = KNeighborsClassifier(n_neighbors=k)\n",
    "    knn.fit(X_train, y_train)\n",
    "    predictions = knn.predict(X_val)\n",
    "    f1 = f1_score(y_val, predictions, average='weighted')\n",
    "    print(f\"k={k}, F1 Score={f1}\")\n",
    "    \n",
    "    if f1 > best_knn_f1:\n",
    "        best_knn_f1 = f1\n",
    "        best_knn = knn"
   ]
  },
  {
   "cell_type": "code",
   "execution_count": 15,
   "id": "e085b044",
   "metadata": {},
   "outputs": [
    {
     "name": "stdout",
     "output_type": "stream",
     "text": [
      "max_depth=3, F1 Score=1.0\n",
      "max_depth=5, F1 Score=1.0\n",
      "max_depth=7, F1 Score=1.0\n"
     ]
    }
   ],
   "source": [
    "best_tree_f1 = 0\n",
    "best_tree = None\n",
    "\n",
    "for depth in [3, 5, 7]:\n",
    "    tree = DecisionTreeClassifier(max_depth=depth, random_state=42)\n",
    "    tree.fit(X_train, y_train)\n",
    "    predictions = tree.predict(X_val)\n",
    "    f1 = f1_score(y_val, predictions, average='weighted')\n",
    "    print(f\"max_depth={depth}, F1 Score={f1}\")\n",
    "    \n",
    "    if f1 > best_tree_f1:\n",
    "        best_tree_f1 = f1\n",
    "        best_tree = tree\n"
   ]
  },
  {
   "cell_type": "code",
   "execution_count": 16,
   "id": "faa58216",
   "metadata": {},
   "outputs": [
    {
     "name": "stdout",
     "output_type": "stream",
     "text": [
      "Selected Decision Tree as the best model with F1 Score: 1.0\n"
     ]
    }
   ],
   "source": [
    "if best_knn_f1 > best_tree_f1:\n",
    "    best_model = best_knn\n",
    "    print(f\"Selected KNN as the best model with F1 Score: {best_knn_f1}\")\n",
    "else:\n",
    "    best_model = best_tree\n",
    "    print(f\"Selected Decision Tree as the best model with F1 Score: {best_tree_f1}\")\n"
   ]
  },
  {
   "cell_type": "code",
   "execution_count": 17,
   "id": "6f770cb8",
   "metadata": {},
   "outputs": [
    {
     "data": {
      "text/plain": [
       "['encoder.pkl']"
      ]
     },
     "execution_count": 17,
     "metadata": {},
     "output_type": "execute_result"
    }
   ],
   "source": [
    "joblib.dump(best_model, 'best_model.pkl')\n",
    "joblib.dump(scaler, 'scaler.pkl')\n",
    "joblib.dump(encoder, 'encoder.pkl')"
   ]
  },
  {
   "cell_type": "code",
   "execution_count": 18,
   "id": "98eeb85a",
   "metadata": {},
   "outputs": [],
   "source": [
    "best_model = joblib.load('best_model.pkl')\n",
    "scaler = joblib.load('scaler.pkl')\n",
    "encoder = joblib.load('encoder.pkl')"
   ]
  },
  {
   "cell_type": "code",
   "execution_count": 30,
   "id": "8d4c48dc",
   "metadata": {},
   "outputs": [],
   "source": [
    "def predict(test_sample):\n",
    "    if isinstance(test_sample, pd.Series):  \n",
    "        test_sample = test_sample.to_frame().T\n",
    "\n",
    "    missing_categorical = [col for col in categorical_features if col not in test_sample.columns]\n",
    "    \n",
    "    if missing_categorical:\n",
    "        print(f\"Warning: Missing categorical columns: {missing_categorical}\")\n",
    "        return None  \n",
    "\n",
    "    numeric_scaled = scaler.transform(test_sample[numeric_features])\n",
    "    categorical_encoded = encoder.transform(test_sample[categorical_features])  \n",
    "\n",
    "    categorical_encoded_df = pd.DataFrame(categorical_encoded, columns=encoder.get_feature_names_out())\n",
    "    \n",
    "    X_test = np.hstack((numeric_scaled, categorical_encoded_df))\n",
    "    return best_model.predict(X_test)\n"
   ]
  },
  {
   "cell_type": "code",
   "execution_count": 31,
   "id": "853b2ba6",
   "metadata": {},
   "outputs": [
    {
     "name": "stdout",
     "output_type": "stream",
     "text": [
      "Index(['Pregnancies', 'Glucose', 'BloodPressure', 'SkinThickness', 'Insulin',\n",
      "       'BMI', 'DiabetesPedigreeFunction', 'Age', 'Outcome', 'BMI_category'],\n",
      "      dtype='object')\n"
     ]
    }
   ],
   "source": [
    "print(df.columns)\n"
   ]
  },
  {
   "cell_type": "code",
   "execution_count": 32,
   "id": "56d060ee",
   "metadata": {},
   "outputs": [
    {
     "name": "stdout",
     "output_type": "stream",
     "text": [
      "Sample 1: Predicted Class = ['Obesity']\n",
      "Sample 2: Predicted Class = ['Overweight']\n",
      "Sample 3: Predicted Class = ['Obesity']\n",
      "Sample 4: Predicted Class = ['Overweight']\n",
      "Sample 5: Predicted Class = ['Obesity']\n"
     ]
    },
    {
     "name": "stderr",
     "output_type": "stream",
     "text": [
      "/Users/syonaa/anaconda3/lib/python3.11/site-packages/sklearn/base.py:464: UserWarning: X does not have valid feature names, but DecisionTreeClassifier was fitted with feature names\n",
      "  warnings.warn(\n",
      "/Users/syonaa/anaconda3/lib/python3.11/site-packages/sklearn/base.py:464: UserWarning: X does not have valid feature names, but DecisionTreeClassifier was fitted with feature names\n",
      "  warnings.warn(\n",
      "/Users/syonaa/anaconda3/lib/python3.11/site-packages/sklearn/base.py:464: UserWarning: X does not have valid feature names, but DecisionTreeClassifier was fitted with feature names\n",
      "  warnings.warn(\n",
      "/Users/syonaa/anaconda3/lib/python3.11/site-packages/sklearn/base.py:464: UserWarning: X does not have valid feature names, but DecisionTreeClassifier was fitted with feature names\n",
      "  warnings.warn(\n",
      "/Users/syonaa/anaconda3/lib/python3.11/site-packages/sklearn/base.py:464: UserWarning: X does not have valid feature names, but DecisionTreeClassifier was fitted with feature names\n",
      "  warnings.warn(\n"
     ]
    }
   ],
   "source": [
    "for i in range(5):\n",
    "    sample = df.iloc[[X_val.index[i]]]  \n",
    "    predicted_class = predict(sample)\n",
    "    print(f\"Sample {i+1}: Predicted Class = {predicted_class}\")"
   ]
  },
  {
   "cell_type": "code",
   "execution_count": null,
   "id": "9626b4d2",
   "metadata": {},
   "outputs": [],
   "source": []
  }
 ],
 "metadata": {
  "kernelspec": {
   "display_name": "Python 3 (ipykernel)",
   "language": "python",
   "name": "python3"
  },
  "language_info": {
   "codemirror_mode": {
    "name": "ipython",
    "version": 3
   },
   "file_extension": ".py",
   "mimetype": "text/x-python",
   "name": "python",
   "nbconvert_exporter": "python",
   "pygments_lexer": "ipython3",
   "version": "3.11.5"
  }
 },
 "nbformat": 4,
 "nbformat_minor": 5
}
