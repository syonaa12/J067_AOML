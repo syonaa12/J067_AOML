{
 "cells": [
  {
   "cell_type": "code",
   "execution_count": 2,
   "id": "90fc044d",
   "metadata": {},
   "outputs": [],
   "source": [
    "from sklearn.experimental import enable_iterative_imputer\n",
    "from sklearn.impute import IterativeImputer\n",
    "from sklearn.ensemble import RandomForestRegressor, GradientBoostingRegressor, AdaBoostRegressor, ExtraTreesRegressor, StackingRegressor\n",
    "from sklearn.model_selection import train_test_split, RandomizedSearchCV\n",
    "from sklearn.metrics import mean_squared_error\n",
    "from sklearn.preprocessing import StandardScaler, LabelEncoder\n",
    "from sklearn.impute import IterativeImputer\n",
    "from sklearn.linear_model import Ridge\n",
    "import pandas as pd\n",
    "import numpy as np"
   ]
  },
  {
   "cell_type": "code",
   "execution_count": 3,
   "id": "2cf46621",
   "metadata": {},
   "outputs": [],
   "source": [
    "train_df = pd.read_csv(\"train.csv\")\n",
    "test_df = pd.read_csv(\"test-2.csv\")"
   ]
  },
  {
   "cell_type": "code",
   "execution_count": 4,
   "id": "66c9a62a",
   "metadata": {},
   "outputs": [],
   "source": [
    "test_uid = test_df[\"uid\"]\n",
    "train_df.drop(columns=['uid'], inplace=True)\n",
    "test_df.drop(columns=['uid'], inplace=True)"
   ]
  },
  {
   "cell_type": "code",
   "execution_count": 5,
   "id": "e62c657a",
   "metadata": {},
   "outputs": [],
   "source": [
    "target_col = \"output_electricity_generation\"\n",
    "X_train_df = train_df.drop(columns=[target_col])\n",
    "y_train = train_df[target_col]\n"
   ]
  },
  {
   "cell_type": "code",
   "execution_count": 7,
   "id": "ba6b04b1",
   "metadata": {},
   "outputs": [],
   "source": [
    "categorical_cols = ['day']\n",
    "for col in categorical_cols:\n",
    "    le = LabelEncoder()\n",
    "    X_train_df[col] = le.fit_transform(X_train_df[col])\n",
    "    test_df[col] = le.transform(test_df[col])"
   ]
  },
  {
   "cell_type": "code",
   "execution_count": 8,
   "id": "fa558930",
   "metadata": {},
   "outputs": [
    {
     "name": "stderr",
     "output_type": "stream",
     "text": [
      "/Users/syonaa/anaconda3/lib/python3.11/site-packages/sklearn/impute/_iterative.py:785: ConvergenceWarning: [IterativeImputer] Early stopping criterion not reached.\n",
      "  warnings.warn(\n",
      "/var/folders/wv/6mym4l8x2m103zryzwg2jgzw0000gn/T/ipykernel_6034/825271008.py:2: DeprecationWarning: In a future version, `df.iloc[:, i] = newvals` will attempt to set the values inplace instead of always setting a new array. To retain the old behavior, use either `df[df.columns[i]] = newvals` or, if columns are non-unique, `df.isetitem(i, newvals)`\n",
      "  X_train_df[:] = imputer.fit_transform(X_train_df)\n",
      "/var/folders/wv/6mym4l8x2m103zryzwg2jgzw0000gn/T/ipykernel_6034/825271008.py:3: DeprecationWarning: In a future version, `df.iloc[:, i] = newvals` will attempt to set the values inplace instead of always setting a new array. To retain the old behavior, use either `df[df.columns[i]] = newvals` or, if columns are non-unique, `df.isetitem(i, newvals)`\n",
      "  test_df[:] = imputer.transform(test_df)\n"
     ]
    }
   ],
   "source": [
    "imputer = IterativeImputer(random_state=42)\n",
    "X_train_df[:] = imputer.fit_transform(X_train_df)\n",
    "test_df[:] = imputer.transform(test_df)"
   ]
  },
  {
   "cell_type": "code",
   "execution_count": 9,
   "id": "01aa6f06",
   "metadata": {},
   "outputs": [],
   "source": [
    "scaler = StandardScaler()\n",
    "X_train, X_val, y_train, y_val = train_test_split(X_train_df, y_train, test_size=0.2, random_state=42)"
   ]
  },
  {
   "cell_type": "code",
   "execution_count": 10,
   "id": "0490e8aa",
   "metadata": {},
   "outputs": [],
   "source": [
    "X_train = scaler.fit_transform(X_train)\n",
    "X_val = scaler.transform(X_val)\n",
    "X_test = scaler.transform(test_df)"
   ]
  },
  {
   "cell_type": "code",
   "execution_count": 11,
   "id": "5f183240",
   "metadata": {},
   "outputs": [],
   "source": [
    "models = {\n",
    "    \"Random Forest\": RandomForestRegressor(n_estimators=200, max_depth=15, min_samples_split=2, min_samples_leaf=1, max_features='sqrt', random_state=42, n_jobs=-1),\n",
    "    \"Gradient Boosting\": GradientBoostingRegressor(n_estimators=200, learning_rate=0.1, max_depth=3, random_state=42),\n",
    "    \"AdaBoost\": AdaBoostRegressor(n_estimators=200, learning_rate=0.1, random_state=42),\n",
    "    \"Extra Trees\": ExtraTreesRegressor(n_estimators=200, max_depth=15, min_samples_split=2, min_samples_leaf=1, max_features='sqrt', random_state=42, n_jobs=-1)\n",
    "}"
   ]
  },
  {
   "cell_type": "code",
   "execution_count": 12,
   "id": "697aa436",
   "metadata": {},
   "outputs": [
    {
     "name": "stdout",
     "output_type": "stream",
     "text": [
      "Random Forest RMSE: 3.4780\n",
      "Gradient Boosting RMSE: 5.7547\n",
      "AdaBoost RMSE: 20.5211\n",
      "Extra Trees RMSE: 5.2016\n"
     ]
    }
   ],
   "source": [
    "for name, model in models.items():\n",
    "    model.fit(X_train, y_train)\n",
    "    y_pred = model.predict(X_val)\n",
    "    rmse = np.sqrt(mean_squared_error(y_val, y_pred))\n",
    "    print(f\"{name} RMSE: {rmse:.4f}\")"
   ]
  },
  {
   "cell_type": "code",
   "execution_count": 13,
   "id": "ecbca0a8",
   "metadata": {},
   "outputs": [
    {
     "name": "stdout",
     "output_type": "stream",
     "text": [
      "Stacking Ensemble RMSE: 3.6207\n"
     ]
    }
   ],
   "source": [
    "base_learners = [(\"Random Forest\", models[\"Random Forest\"]), (\"Gradient Boosting\", models[\"Gradient Boosting\"]), (\"Extra Trees\", models[\"Extra Trees\"])]\n",
    "stacking_model = StackingRegressor(estimators=base_learners, final_estimator=Ridge(), n_jobs=-1)\n",
    "stacking_model.fit(X_train, y_train)\n",
    "y_pred_stack = stacking_model.predict(X_val)\n",
    "stacking_rmse = np.sqrt(mean_squared_error(y_val, y_pred_stack))\n",
    "print(f\"Stacking Ensemble RMSE: {stacking_rmse:.4f}\")"
   ]
  },
  {
   "cell_type": "code",
   "execution_count": null,
   "id": "601e2b6d",
   "metadata": {},
   "outputs": [],
   "source": [
    "#I have tried to better the model using hyperparameter optimisation."
   ]
  }
 ],
 "metadata": {
  "kernelspec": {
   "display_name": "Python 3 (ipykernel)",
   "language": "python",
   "name": "python3"
  },
  "language_info": {
   "codemirror_mode": {
    "name": "ipython",
    "version": 3
   },
   "file_extension": ".py",
   "mimetype": "text/x-python",
   "name": "python",
   "nbconvert_exporter": "python",
   "pygments_lexer": "ipython3",
   "version": "3.11.5"
  }
 },
 "nbformat": 4,
 "nbformat_minor": 5
}
